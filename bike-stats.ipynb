{
 "metadata": {
  "language_info": {
   "codemirror_mode": {
    "name": "ipython",
    "version": 3
   },
   "file_extension": ".py",
   "mimetype": "text/x-python",
   "name": "python",
   "nbconvert_exporter": "python",
   "pygments_lexer": "ipython3",
   "version": "3.9.0-final"
  },
  "orig_nbformat": 2,
  "kernelspec": {
   "name": "python3",
   "display_name": "Python 3",
   "language": "python"
  }
 },
 "nbformat": 4,
 "nbformat_minor": 2,
 "cells": [
  {
   "source": [
    "# bike_stats"
   ],
   "cell_type": "markdown",
   "metadata": {}
  },
  {
   "cell_type": "code",
   "execution_count": 22,
   "metadata": {},
   "outputs": [],
   "source": [
    "import pandas as pd"
   ]
  },
  {
   "cell_type": "code",
   "execution_count": 23,
   "metadata": {},
   "outputs": [
    {
     "output_type": "stream",
     "name": "stderr",
     "text": [
      "b'Skipping line 50794: expected 12 fields, saw 20\\n'\n"
     ]
    }
   ],
   "source": [
    "df_station = pd.read_csv('./station.csv')\n",
    "dftrip = pd.read_csv('trip.csv',error_bad_lines = False)\n",
    "df_weather = pd.read_csv('./weather.csv')"
   ]
  },
  {
   "source": [
    "1. What is the average trip duration for a borrowed bicycle?"
   ],
   "cell_type": "markdown",
   "metadata": {}
  },
  {
   "cell_type": "code",
   "execution_count": 24,
   "metadata": {},
   "outputs": [
    {
     "output_type": "execute_result",
     "data": {
      "text/plain": [
       "1178.2956753399776"
      ]
     },
     "metadata": {},
     "execution_count": 24
    }
   ],
   "source": [
    "dftrip['tripduration'].mean()"
   ]
  },
  {
   "source": [
    "2. What’s the most common age of a bicycle-sharer?"
   ],
   "cell_type": "markdown",
   "metadata": {}
  },
  {
   "cell_type": "code",
   "execution_count": 31,
   "metadata": {},
   "outputs": [
    {
     "output_type": "execute_result",
     "data": {
      "text/plain": [
       "33.0"
      ]
     },
     "metadata": {},
     "execution_count": 31
    }
   ],
   "source": [
    "\n",
    "avg_rider_birthyear = dftrip[\"birthyear\"].mode()[0]\n",
    "most_common_age = 2020 - avg_rider_birthyear\n",
    "most_common_age"
   ]
  },
  {
   "source": [
    "3. Given all the weather data here, find the average precipitation per month, and the median precipitation."
   ],
   "cell_type": "markdown",
   "metadata": {}
  },
  {
   "cell_type": "code",
   "execution_count": 26,
   "metadata": {},
   "outputs": [
    {
     "output_type": "execute_result",
     "data": {
      "text/plain": [
       "(year  month\n",
       " 2014  10       0.140\n",
       "       11       0.010\n",
       "       12       0.010\n",
       " 2015  1        0.010\n",
       "       2        0.025\n",
       "       3        0.000\n",
       "       4        0.000\n",
       "       5        0.000\n",
       "       6        0.000\n",
       "       7        0.000\n",
       "       8        0.000\n",
       "       9        0.000\n",
       "       10       0.010\n",
       "       11       0.065\n",
       "       12       0.120\n",
       " 2016  1        0.070\n",
       "       2        0.080\n",
       "       3        0.060\n",
       "       4        0.000\n",
       "       5        0.000\n",
       "       6        0.000\n",
       "       7        0.000\n",
       "       8        0.000\n",
       " Name: Precipitation_In, dtype: float64,\n",
       " year  month\n",
       " 2014  10       0.300526\n",
       "       11       0.141667\n",
       "       12       0.145161\n",
       " 2015  1        0.070645\n",
       "       2        0.163214\n",
       "       3        0.135161\n",
       "       4        0.056667\n",
       "       5        0.014194\n",
       "       6        0.005667\n",
       "       7        0.008710\n",
       "       8        0.035484\n",
       "       9        0.041000\n",
       "       10       0.120645\n",
       "       11       0.234000\n",
       "       12       0.327419\n",
       " 2016  1        0.216452\n",
       "       2        0.173448\n",
       "       3        0.178710\n",
       "       4        0.046000\n",
       "       5        0.010645\n",
       "       6        0.055333\n",
       "       7        0.015484\n",
       "       8        0.000968\n",
       " Name: Precipitation_In, dtype: float64)"
      ]
     },
     "metadata": {},
     "execution_count": 26
    }
   ],
   "source": [
    "df_weather['month'] = pd.DatetimeIndex(df_weather['Date']).month\n",
    "df_weather['year'] = pd.DatetimeIndex(df_weather['Date']).year\n",
    "df_weather\n",
    "average_precipitation_month = df_weather.groupby(['year','month'])['Precipitation_In'].mean()\n",
    "median_precipitation= df_weather.groupby(['year','month'])['Precipitation_In'].median()\n",
    "\n",
    "median_precipitation,average_precipitation_month "
   ]
  },
  {
   "source": [
    "4. What’s the average number of bikes at a given bike station?"
   ],
   "cell_type": "markdown",
   "metadata": {}
  },
  {
   "cell_type": "code",
   "execution_count": 36,
   "metadata": {},
   "outputs": [
    {
     "output_type": "execute_result",
     "data": {
      "text/plain": [
       "16.517241379310345"
      ]
     },
     "metadata": {},
     "execution_count": 36
    }
   ],
   "source": [
    "number_of_bikes_per_station = df_station.groupby('station_id')['current_dockcount'].sum()\n",
    "avg_number_of_bikes = number_of_bikes_per_station.mean()\n",
    "\n",
    "avg_number_of_bikes"
   ]
  },
  {
   "cell_type": "code",
   "execution_count": 29,
   "metadata": {},
   "outputs": [
    {
     "output_type": "stream",
     "name": "stdout",
     "text": [
      "Object `know` not found.\n"
     ]
    }
   ],
   "source": [
    "5. When a bike station is modified, is it more likely that it’ll lose bikes or gain bikes? How do you know?"
   ]
  },
  {
   "cell_type": "code",
   "execution_count": 38,
   "metadata": {},
   "outputs": [
    {
     "output_type": "execute_result",
     "data": {
      "text/plain": [
       "\"It's more likely to lose bikes\""
      ]
     },
     "metadata": {},
     "execution_count": 38
    }
   ],
   "source": [
    "def lose_or_gain(df):\n",
    "    filt_increase_number_of_bikes = df['current_dockcount'] > df['install_dockcount']\n",
    "    filt_decrease_number_of_bikes = df['current_dockcount'] < df['install_dockcount']\n",
    "    avg_increase = len(df[filt_increase_number_of_bikes]) - len(df[filt_decrease_number_of_bikes])\n",
    "    \n",
    "    return f'It\\'s more likely to gain bikes' if avg_increase > 0 else f'It\\'s more likely to lose bikes'\n",
    "\n",
    "lose_or_gain(df_station)"
   ]
  },
  {
   "cell_type": "code",
   "execution_count": null,
   "metadata": {},
   "outputs": [],
   "source": []
  }
 ]
}